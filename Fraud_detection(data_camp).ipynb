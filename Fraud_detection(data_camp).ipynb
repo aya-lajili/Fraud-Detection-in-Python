{
 "cells": [
  {
   "cell_type": "code",
   "execution_count": 1,
   "metadata": {},
   "outputs": [],
   "source": [
    "#A typical organization loses an estimated 5% of its yearly revenue to fraud. In this course, you will learn how to fight fraud by using data. For example, you'll learn how to apply supervised learning algorithms to detect fraudulent behavior similar to past ones, as well as unsupervised learning methods to discover new types of fraud activities. Moreover, in fraud analytics you often deal with highly imbalanced datasets when classifying fraud versus non-fraud, and during this course you will pick up some techniques on how to deal with that. The course provides a mix of technical and theoretical insights and shows you hands-on how to practically implement fraud detection models. In addition, you will get tips and advice from real-life experience to help you prevent making common mistakes in fraud analytics."
   ]
  },
  {
   "cell_type": "code",
   "execution_count": 3,
   "metadata": {},
   "outputs": [],
   "source": [
    "import pandas as pd\n",
    "import numpy as np"
   ]
  },
  {
   "cell_type": "code",
   "execution_count": 4,
   "metadata": {},
   "outputs": [],
   "source": [
    "data = pd.read_csv(\"CreditCard.csv\")"
   ]
  },
  {
   "cell_type": "code",
   "execution_count": 5,
   "metadata": {},
   "outputs": [
    {
     "data": {
      "text/html": [
       "<div>\n",
       "<style scoped>\n",
       "    .dataframe tbody tr th:only-of-type {\n",
       "        vertical-align: middle;\n",
       "    }\n",
       "\n",
       "    .dataframe tbody tr th {\n",
       "        vertical-align: top;\n",
       "    }\n",
       "\n",
       "    .dataframe thead th {\n",
       "        text-align: right;\n",
       "    }\n",
       "</style>\n",
       "<table border=\"1\" class=\"dataframe\">\n",
       "  <thead>\n",
       "    <tr style=\"text-align: right;\">\n",
       "      <th></th>\n",
       "      <th>V1</th>\n",
       "      <th>V2</th>\n",
       "      <th>V3</th>\n",
       "      <th>V4</th>\n",
       "      <th>V5</th>\n",
       "      <th>V6</th>\n",
       "      <th>V7</th>\n",
       "      <th>V8</th>\n",
       "      <th>V9</th>\n",
       "      <th>V10</th>\n",
       "      <th>...</th>\n",
       "      <th>V21</th>\n",
       "      <th>V22</th>\n",
       "      <th>V23</th>\n",
       "      <th>V24</th>\n",
       "      <th>V25</th>\n",
       "      <th>V26</th>\n",
       "      <th>V27</th>\n",
       "      <th>V28</th>\n",
       "      <th>Amount</th>\n",
       "      <th>Class</th>\n",
       "    </tr>\n",
       "  </thead>\n",
       "  <tbody>\n",
       "    <tr>\n",
       "      <th>0</th>\n",
       "      <td>-1.191668</td>\n",
       "      <td>0.428409</td>\n",
       "      <td>1.640028</td>\n",
       "      <td>-1.848859</td>\n",
       "      <td>-0.870903</td>\n",
       "      <td>-0.204849</td>\n",
       "      <td>-0.385675</td>\n",
       "      <td>0.352793</td>\n",
       "      <td>-1.098301</td>\n",
       "      <td>-0.334597</td>\n",
       "      <td>...</td>\n",
       "      <td>0.507173</td>\n",
       "      <td>1.292565</td>\n",
       "      <td>-0.467752</td>\n",
       "      <td>1.244887</td>\n",
       "      <td>0.697707</td>\n",
       "      <td>0.059375</td>\n",
       "      <td>-0.319964</td>\n",
       "      <td>-0.017444</td>\n",
       "      <td>27.44</td>\n",
       "      <td>0</td>\n",
       "    </tr>\n",
       "    <tr>\n",
       "      <th>1</th>\n",
       "      <td>1.966614</td>\n",
       "      <td>-0.450087</td>\n",
       "      <td>-1.228586</td>\n",
       "      <td>0.142873</td>\n",
       "      <td>-0.150627</td>\n",
       "      <td>-0.543590</td>\n",
       "      <td>-0.076217</td>\n",
       "      <td>-0.108390</td>\n",
       "      <td>0.973310</td>\n",
       "      <td>-0.029903</td>\n",
       "      <td>...</td>\n",
       "      <td>0.124055</td>\n",
       "      <td>0.564916</td>\n",
       "      <td>-0.039331</td>\n",
       "      <td>-0.283904</td>\n",
       "      <td>0.186400</td>\n",
       "      <td>0.192932</td>\n",
       "      <td>-0.039155</td>\n",
       "      <td>-0.071314</td>\n",
       "      <td>35.95</td>\n",
       "      <td>0</td>\n",
       "    </tr>\n",
       "    <tr>\n",
       "      <th>2</th>\n",
       "      <td>1.528452</td>\n",
       "      <td>-1.296191</td>\n",
       "      <td>-0.890677</td>\n",
       "      <td>-2.504028</td>\n",
       "      <td>0.803202</td>\n",
       "      <td>3.350793</td>\n",
       "      <td>-1.633016</td>\n",
       "      <td>0.815350</td>\n",
       "      <td>-1.884692</td>\n",
       "      <td>1.465259</td>\n",
       "      <td>...</td>\n",
       "      <td>-0.412088</td>\n",
       "      <td>-1.017485</td>\n",
       "      <td>0.129566</td>\n",
       "      <td>0.948048</td>\n",
       "      <td>0.287826</td>\n",
       "      <td>-0.396592</td>\n",
       "      <td>0.042997</td>\n",
       "      <td>0.025853</td>\n",
       "      <td>28.40</td>\n",
       "      <td>0</td>\n",
       "    </tr>\n",
       "    <tr>\n",
       "      <th>3</th>\n",
       "      <td>-0.774614</td>\n",
       "      <td>1.100916</td>\n",
       "      <td>0.679080</td>\n",
       "      <td>1.034016</td>\n",
       "      <td>0.168633</td>\n",
       "      <td>0.874582</td>\n",
       "      <td>0.209454</td>\n",
       "      <td>0.770550</td>\n",
       "      <td>-0.558106</td>\n",
       "      <td>-0.165442</td>\n",
       "      <td>...</td>\n",
       "      <td>0.011158</td>\n",
       "      <td>0.146017</td>\n",
       "      <td>-0.130401</td>\n",
       "      <td>-0.848815</td>\n",
       "      <td>0.005698</td>\n",
       "      <td>-0.183295</td>\n",
       "      <td>0.282940</td>\n",
       "      <td>0.123856</td>\n",
       "      <td>43.20</td>\n",
       "      <td>0</td>\n",
       "    </tr>\n",
       "    <tr>\n",
       "      <th>4</th>\n",
       "      <td>-1.075860</td>\n",
       "      <td>1.361160</td>\n",
       "      <td>1.496972</td>\n",
       "      <td>2.242604</td>\n",
       "      <td>1.314751</td>\n",
       "      <td>0.272787</td>\n",
       "      <td>1.005246</td>\n",
       "      <td>0.132932</td>\n",
       "      <td>-1.558317</td>\n",
       "      <td>0.484216</td>\n",
       "      <td>...</td>\n",
       "      <td>0.254485</td>\n",
       "      <td>0.530692</td>\n",
       "      <td>-0.651119</td>\n",
       "      <td>0.626389</td>\n",
       "      <td>1.040212</td>\n",
       "      <td>0.249501</td>\n",
       "      <td>-0.146745</td>\n",
       "      <td>0.029714</td>\n",
       "      <td>10.59</td>\n",
       "      <td>0</td>\n",
       "    </tr>\n",
       "  </tbody>\n",
       "</table>\n",
       "<p>5 rows × 30 columns</p>\n",
       "</div>"
      ],
      "text/plain": [
       "         V1        V2        V3        V4        V5        V6        V7  \\\n",
       "0 -1.191668  0.428409  1.640028 -1.848859 -0.870903 -0.204849 -0.385675   \n",
       "1  1.966614 -0.450087 -1.228586  0.142873 -0.150627 -0.543590 -0.076217   \n",
       "2  1.528452 -1.296191 -0.890677 -2.504028  0.803202  3.350793 -1.633016   \n",
       "3 -0.774614  1.100916  0.679080  1.034016  0.168633  0.874582  0.209454   \n",
       "4 -1.075860  1.361160  1.496972  2.242604  1.314751  0.272787  1.005246   \n",
       "\n",
       "         V8        V9       V10  ...       V21       V22       V23       V24  \\\n",
       "0  0.352793 -1.098301 -0.334597  ...  0.507173  1.292565 -0.467752  1.244887   \n",
       "1 -0.108390  0.973310 -0.029903  ...  0.124055  0.564916 -0.039331 -0.283904   \n",
       "2  0.815350 -1.884692  1.465259  ... -0.412088 -1.017485  0.129566  0.948048   \n",
       "3  0.770550 -0.558106 -0.165442  ...  0.011158  0.146017 -0.130401 -0.848815   \n",
       "4  0.132932 -1.558317  0.484216  ...  0.254485  0.530692 -0.651119  0.626389   \n",
       "\n",
       "        V25       V26       V27       V28  Amount  Class  \n",
       "0  0.697707  0.059375 -0.319964 -0.017444   27.44      0  \n",
       "1  0.186400  0.192932 -0.039155 -0.071314   35.95      0  \n",
       "2  0.287826 -0.396592  0.042997  0.025853   28.40      0  \n",
       "3  0.005698 -0.183295  0.282940  0.123856   43.20      0  \n",
       "4  1.040212  0.249501 -0.146745  0.029714   10.59      0  \n",
       "\n",
       "[5 rows x 30 columns]"
      ]
     },
     "execution_count": 5,
     "metadata": {},
     "output_type": "execute_result"
    }
   ],
   "source": [
    "data.head()"
   ]
  },
  {
   "cell_type": "code",
   "execution_count": 6,
   "metadata": {},
   "outputs": [
    {
     "name": "stdout",
     "output_type": "stream",
     "text": [
      "<class 'pandas.core.frame.DataFrame'>\n",
      "RangeIndex: 7300 entries, 0 to 7299\n",
      "Data columns (total 30 columns):\n",
      " #   Column  Non-Null Count  Dtype  \n",
      "---  ------  --------------  -----  \n",
      " 0   V1      7300 non-null   float64\n",
      " 1   V2      7300 non-null   float64\n",
      " 2   V3      7300 non-null   float64\n",
      " 3   V4      7300 non-null   float64\n",
      " 4   V5      7300 non-null   float64\n",
      " 5   V6      7300 non-null   float64\n",
      " 6   V7      7300 non-null   float64\n",
      " 7   V8      7300 non-null   float64\n",
      " 8   V9      7300 non-null   float64\n",
      " 9   V10     7300 non-null   float64\n",
      " 10  V11     7300 non-null   float64\n",
      " 11  V12     7300 non-null   float64\n",
      " 12  V13     7300 non-null   float64\n",
      " 13  V14     7300 non-null   float64\n",
      " 14  V15     7300 non-null   float64\n",
      " 15  V16     7300 non-null   float64\n",
      " 16  V17     7300 non-null   float64\n",
      " 17  V18     7300 non-null   float64\n",
      " 18  V19     7300 non-null   float64\n",
      " 19  V20     7300 non-null   float64\n",
      " 20  V21     7300 non-null   float64\n",
      " 21  V22     7300 non-null   float64\n",
      " 22  V23     7300 non-null   float64\n",
      " 23  V24     7300 non-null   float64\n",
      " 24  V25     7300 non-null   float64\n",
      " 25  V26     7300 non-null   float64\n",
      " 26  V27     7300 non-null   float64\n",
      " 27  V28     7300 non-null   float64\n",
      " 28  Amount  7300 non-null   float64\n",
      " 29  Class   7300 non-null   int64  \n",
      "dtypes: float64(29), int64(1)\n",
      "memory usage: 1.7 MB\n"
     ]
    }
   ],
   "source": [
    "data.info()"
   ]
  },
  {
   "cell_type": "code",
   "execution_count": 7,
   "metadata": {},
   "outputs": [
    {
     "data": {
      "text/html": [
       "<div>\n",
       "<style scoped>\n",
       "    .dataframe tbody tr th:only-of-type {\n",
       "        vertical-align: middle;\n",
       "    }\n",
       "\n",
       "    .dataframe tbody tr th {\n",
       "        vertical-align: top;\n",
       "    }\n",
       "\n",
       "    .dataframe thead th {\n",
       "        text-align: right;\n",
       "    }\n",
       "</style>\n",
       "<table border=\"1\" class=\"dataframe\">\n",
       "  <thead>\n",
       "    <tr style=\"text-align: right;\">\n",
       "      <th></th>\n",
       "      <th>V1</th>\n",
       "      <th>V2</th>\n",
       "      <th>V3</th>\n",
       "      <th>V4</th>\n",
       "      <th>V5</th>\n",
       "      <th>V6</th>\n",
       "      <th>V7</th>\n",
       "      <th>V8</th>\n",
       "      <th>V9</th>\n",
       "      <th>V10</th>\n",
       "      <th>...</th>\n",
       "      <th>V21</th>\n",
       "      <th>V22</th>\n",
       "      <th>V23</th>\n",
       "      <th>V24</th>\n",
       "      <th>V25</th>\n",
       "      <th>V26</th>\n",
       "      <th>V27</th>\n",
       "      <th>V28</th>\n",
       "      <th>Amount</th>\n",
       "      <th>Class</th>\n",
       "    </tr>\n",
       "  </thead>\n",
       "  <tbody>\n",
       "    <tr>\n",
       "      <th>count</th>\n",
       "      <td>7300.000000</td>\n",
       "      <td>7300.000000</td>\n",
       "      <td>7300.000000</td>\n",
       "      <td>7300.000000</td>\n",
       "      <td>7300.000000</td>\n",
       "      <td>7300.000000</td>\n",
       "      <td>7300.000000</td>\n",
       "      <td>7300.000000</td>\n",
       "      <td>7300.000000</td>\n",
       "      <td>7300.000000</td>\n",
       "      <td>...</td>\n",
       "      <td>7300.000000</td>\n",
       "      <td>7300.000000</td>\n",
       "      <td>7300.000000</td>\n",
       "      <td>7300.000000</td>\n",
       "      <td>7300.000000</td>\n",
       "      <td>7300.000000</td>\n",
       "      <td>7300.000000</td>\n",
       "      <td>7300.000000</td>\n",
       "      <td>7300.000000</td>\n",
       "      <td>7300.000000</td>\n",
       "    </tr>\n",
       "    <tr>\n",
       "      <th>mean</th>\n",
       "      <td>-0.193825</td>\n",
       "      <td>0.159880</td>\n",
       "      <td>-0.278411</td>\n",
       "      <td>0.193200</td>\n",
       "      <td>-0.128358</td>\n",
       "      <td>-0.048911</td>\n",
       "      <td>-0.202722</td>\n",
       "      <td>0.029468</td>\n",
       "      <td>-0.099865</td>\n",
       "      <td>-0.219260</td>\n",
       "      <td>...</td>\n",
       "      <td>0.033059</td>\n",
       "      <td>-0.003541</td>\n",
       "      <td>0.004062</td>\n",
       "      <td>-0.001630</td>\n",
       "      <td>-0.001130</td>\n",
       "      <td>0.011666</td>\n",
       "      <td>0.009332</td>\n",
       "      <td>0.005830</td>\n",
       "      <td>90.372956</td>\n",
       "      <td>0.041096</td>\n",
       "    </tr>\n",
       "    <tr>\n",
       "      <th>std</th>\n",
       "      <td>2.521772</td>\n",
       "      <td>1.970007</td>\n",
       "      <td>2.488454</td>\n",
       "      <td>1.746604</td>\n",
       "      <td>1.826802</td>\n",
       "      <td>1.371383</td>\n",
       "      <td>2.175403</td>\n",
       "      <td>1.764826</td>\n",
       "      <td>1.307587</td>\n",
       "      <td>1.863682</td>\n",
       "      <td>...</td>\n",
       "      <td>1.071380</td>\n",
       "      <td>0.778235</td>\n",
       "      <td>0.654663</td>\n",
       "      <td>0.597398</td>\n",
       "      <td>0.531629</td>\n",
       "      <td>0.484641</td>\n",
       "      <td>0.464333</td>\n",
       "      <td>0.330659</td>\n",
       "      <td>289.206749</td>\n",
       "      <td>0.198526</td>\n",
       "    </tr>\n",
       "    <tr>\n",
       "      <th>min</th>\n",
       "      <td>-31.972536</td>\n",
       "      <td>-42.172688</td>\n",
       "      <td>-31.103685</td>\n",
       "      <td>-5.047408</td>\n",
       "      <td>-28.815577</td>\n",
       "      <td>-8.389238</td>\n",
       "      <td>-43.557242</td>\n",
       "      <td>-41.044261</td>\n",
       "      <td>-13.320155</td>\n",
       "      <td>-24.588262</td>\n",
       "      <td>...</td>\n",
       "      <td>-22.797604</td>\n",
       "      <td>-8.887017</td>\n",
       "      <td>-17.530682</td>\n",
       "      <td>-2.822684</td>\n",
       "      <td>-4.547278</td>\n",
       "      <td>-1.577118</td>\n",
       "      <td>-7.263482</td>\n",
       "      <td>-3.916662</td>\n",
       "      <td>0.000000</td>\n",
       "      <td>0.000000</td>\n",
       "    </tr>\n",
       "    <tr>\n",
       "      <th>25%</th>\n",
       "      <td>-0.995027</td>\n",
       "      <td>-0.550039</td>\n",
       "      <td>-1.029977</td>\n",
       "      <td>-0.796602</td>\n",
       "      <td>-0.737594</td>\n",
       "      <td>-0.801558</td>\n",
       "      <td>-0.602338</td>\n",
       "      <td>-0.199438</td>\n",
       "      <td>-0.708590</td>\n",
       "      <td>-0.580755</td>\n",
       "      <td>...</td>\n",
       "      <td>-0.232682</td>\n",
       "      <td>-0.543785</td>\n",
       "      <td>-0.165239</td>\n",
       "      <td>-0.356176</td>\n",
       "      <td>-0.320517</td>\n",
       "      <td>-0.317820</td>\n",
       "      <td>-0.070511</td>\n",
       "      <td>-0.054776</td>\n",
       "      <td>5.000000</td>\n",
       "      <td>0.000000</td>\n",
       "    </tr>\n",
       "    <tr>\n",
       "      <th>50%</th>\n",
       "      <td>-0.081147</td>\n",
       "      <td>0.103165</td>\n",
       "      <td>0.112765</td>\n",
       "      <td>0.050026</td>\n",
       "      <td>-0.056608</td>\n",
       "      <td>-0.300839</td>\n",
       "      <td>0.031776</td>\n",
       "      <td>0.033797</td>\n",
       "      <td>-0.086823</td>\n",
       "      <td>-0.100473</td>\n",
       "      <td>...</td>\n",
       "      <td>-0.020227</td>\n",
       "      <td>0.007343</td>\n",
       "      <td>-0.012333</td>\n",
       "      <td>0.038141</td>\n",
       "      <td>0.013887</td>\n",
       "      <td>-0.035643</td>\n",
       "      <td>0.006109</td>\n",
       "      <td>0.012170</td>\n",
       "      <td>21.855000</td>\n",
       "      <td>0.000000</td>\n",
       "    </tr>\n",
       "    <tr>\n",
       "      <th>75%</th>\n",
       "      <td>1.291141</td>\n",
       "      <td>0.884756</td>\n",
       "      <td>1.012824</td>\n",
       "      <td>0.871857</td>\n",
       "      <td>0.616391</td>\n",
       "      <td>0.380007</td>\n",
       "      <td>0.558040</td>\n",
       "      <td>0.352100</td>\n",
       "      <td>0.583610</td>\n",
       "      <td>0.412193</td>\n",
       "      <td>...</td>\n",
       "      <td>0.200228</td>\n",
       "      <td>0.528939</td>\n",
       "      <td>0.146370</td>\n",
       "      <td>0.428241</td>\n",
       "      <td>0.351934</td>\n",
       "      <td>0.270810</td>\n",
       "      <td>0.106617</td>\n",
       "      <td>0.083614</td>\n",
       "      <td>76.000000</td>\n",
       "      <td>0.000000</td>\n",
       "    </tr>\n",
       "    <tr>\n",
       "      <th>max</th>\n",
       "      <td>2.446505</td>\n",
       "      <td>22.057729</td>\n",
       "      <td>3.757300</td>\n",
       "      <td>12.132323</td>\n",
       "      <td>12.791416</td>\n",
       "      <td>21.190194</td>\n",
       "      <td>26.249717</td>\n",
       "      <td>20.007208</td>\n",
       "      <td>8.141560</td>\n",
       "      <td>12.901627</td>\n",
       "      <td>...</td>\n",
       "      <td>27.202839</td>\n",
       "      <td>8.316275</td>\n",
       "      <td>13.218751</td>\n",
       "      <td>3.437028</td>\n",
       "      <td>3.590787</td>\n",
       "      <td>3.116200</td>\n",
       "      <td>5.058448</td>\n",
       "      <td>15.124103</td>\n",
       "      <td>12910.930000</td>\n",
       "      <td>1.000000</td>\n",
       "    </tr>\n",
       "  </tbody>\n",
       "</table>\n",
       "<p>8 rows × 30 columns</p>\n",
       "</div>"
      ],
      "text/plain": [
       "                V1           V2           V3           V4           V5  \\\n",
       "count  7300.000000  7300.000000  7300.000000  7300.000000  7300.000000   \n",
       "mean     -0.193825     0.159880    -0.278411     0.193200    -0.128358   \n",
       "std       2.521772     1.970007     2.488454     1.746604     1.826802   \n",
       "min     -31.972536   -42.172688   -31.103685    -5.047408   -28.815577   \n",
       "25%      -0.995027    -0.550039    -1.029977    -0.796602    -0.737594   \n",
       "50%      -0.081147     0.103165     0.112765     0.050026    -0.056608   \n",
       "75%       1.291141     0.884756     1.012824     0.871857     0.616391   \n",
       "max       2.446505    22.057729     3.757300    12.132323    12.791416   \n",
       "\n",
       "                V6           V7           V8           V9          V10  ...  \\\n",
       "count  7300.000000  7300.000000  7300.000000  7300.000000  7300.000000  ...   \n",
       "mean     -0.048911    -0.202722     0.029468    -0.099865    -0.219260  ...   \n",
       "std       1.371383     2.175403     1.764826     1.307587     1.863682  ...   \n",
       "min      -8.389238   -43.557242   -41.044261   -13.320155   -24.588262  ...   \n",
       "25%      -0.801558    -0.602338    -0.199438    -0.708590    -0.580755  ...   \n",
       "50%      -0.300839     0.031776     0.033797    -0.086823    -0.100473  ...   \n",
       "75%       0.380007     0.558040     0.352100     0.583610     0.412193  ...   \n",
       "max      21.190194    26.249717    20.007208     8.141560    12.901627  ...   \n",
       "\n",
       "               V21          V22          V23          V24          V25  \\\n",
       "count  7300.000000  7300.000000  7300.000000  7300.000000  7300.000000   \n",
       "mean      0.033059    -0.003541     0.004062    -0.001630    -0.001130   \n",
       "std       1.071380     0.778235     0.654663     0.597398     0.531629   \n",
       "min     -22.797604    -8.887017   -17.530682    -2.822684    -4.547278   \n",
       "25%      -0.232682    -0.543785    -0.165239    -0.356176    -0.320517   \n",
       "50%      -0.020227     0.007343    -0.012333     0.038141     0.013887   \n",
       "75%       0.200228     0.528939     0.146370     0.428241     0.351934   \n",
       "max      27.202839     8.316275    13.218751     3.437028     3.590787   \n",
       "\n",
       "               V26          V27          V28        Amount        Class  \n",
       "count  7300.000000  7300.000000  7300.000000   7300.000000  7300.000000  \n",
       "mean      0.011666     0.009332     0.005830     90.372956     0.041096  \n",
       "std       0.484641     0.464333     0.330659    289.206749     0.198526  \n",
       "min      -1.577118    -7.263482    -3.916662      0.000000     0.000000  \n",
       "25%      -0.317820    -0.070511    -0.054776      5.000000     0.000000  \n",
       "50%      -0.035643     0.006109     0.012170     21.855000     0.000000  \n",
       "75%       0.270810     0.106617     0.083614     76.000000     0.000000  \n",
       "max       3.116200     5.058448    15.124103  12910.930000     1.000000  \n",
       "\n",
       "[8 rows x 30 columns]"
      ]
     },
     "execution_count": 7,
     "metadata": {},
     "output_type": "execute_result"
    }
   ],
   "source": [
    "data.describe()"
   ]
  },
  {
   "cell_type": "code",
   "execution_count": 12,
   "metadata": {},
   "outputs": [
    {
     "name": "stdout",
     "output_type": "stream",
     "text": [
      "7300\n",
      "30\n"
     ]
    }
   ],
   "source": [
    "print(len(data.index))\n",
    "print(len(data.columns))"
   ]
  },
  {
   "cell_type": "code",
   "execution_count": 9,
   "metadata": {},
   "outputs": [
    {
     "data": {
      "text/plain": [
       "(7300, 30)"
      ]
     },
     "execution_count": 9,
     "metadata": {},
     "output_type": "execute_result"
    }
   ],
   "source": [
    "data.shape"
   ]
  },
  {
   "cell_type": "code",
   "execution_count": 10,
   "metadata": {},
   "outputs": [
    {
     "name": "stdout",
     "output_type": "stream",
     "text": [
      "0    7000\n",
      "1     300\n",
      "Name: Class, dtype: int64\n",
      "0    0.958904\n",
      "1    0.041096\n",
      "Name: Class, dtype: float64\n"
     ]
    }
   ],
   "source": [
    "# Count the occurrences of fraud and no fraud and print them\n",
    "occ = data['Class'].value_counts()\n",
    "print(occ)\n",
    "\n",
    "# Print the ratio of fraud cases\n",
    "print(occ /len(data.index) )"
   ]
  },
  {
   "cell_type": "code",
   "execution_count": 16,
   "metadata": {},
   "outputs": [],
   "source": [
    "def prep_data(df: pd.DataFrame) -> (np.ndarray, np.ndarray):\n",
    "#-> (np.ndarray, np.ndarray):\n",
    "   # Convert the DataFrame into two variable\n",
    "   # X: data columns (V1 - V28)\n",
    "    #y: lable column\n",
    "    X = df.iloc[:, 2:30].values\n",
    "    y = df.Class.values\n",
    "    return X, y"
   ]
  },
  {
   "cell_type": "code",
   "execution_count": 24,
   "metadata": {},
   "outputs": [
    {
     "data": {
      "image/png": "[encoded data removed]",
      "text/plain": [
       "<Figure size 432x288 with 1 Axes>"
      ]
     },
     "metadata": {
      "needs_background": "light"
     },
     "output_type": "display_data"
    }
   ],
   "source": [
    "# Define a function to create a scatter plot of our data and labels\n",
    "def plot_data(X, y):\n",
    "\tplt.scatter(X[y == 0, 0], X[y == 0, 1], label=\"Class #0\", alpha=0.5, linewidth=0.15)\n",
    "\tplt.scatter(X[y == 1, 0], X[y == 1, 1], label=\"Class #1\", alpha=0.5, linewidth=0.15, c='r')\n",
    "\tplt.legend()\n",
    "\treturn plt.show()\n",
    "# Create X and y from the prep_data function \n",
    "X, y = prep_data(data)\n",
    "\n",
    "# Plot our data by running our plot data function on X and y\n",
    "plot_data(X, y)"
   ]
  },
  {
   "cell_type": "code",
   "execution_count": 14,
   "metadata": {},
   "outputs": [],
   "source": [
    "#Applying SMOTE"
   ]
  },
  {
   "attachments": {
    "smote.jpg": {
     "image/jpeg": "[encoded data removed]"
    }
   },
   "cell_type": "markdown",
   "metadata": {},
   "source": [
    "![smote.jpg](attachment:smote.jpg)"
   ]
  },
  {
   "cell_type": "code",
   "execution_count": 20,
   "metadata": {},
   "outputs": [
    {
     "name": "stdout",
     "output_type": "stream",
     "text": [
      "Requirement already satisfied: imblearn in c:\\users\\aya lajili\\anaconda3\\lib\\site-packages (0.0)\n",
      "Requirement already satisfied: imbalanced-learn in c:\\users\\aya lajili\\anaconda3\\lib\\site-packages (from imblearn) (0.8.0)\n",
      "Requirement already satisfied: scikit-learn>=0.24 in c:\\users\\aya lajili\\anaconda3\\lib\\site-packages (from imbalanced-learn->imblearn) (0.24.1)\n",
      "Requirement already satisfied: numpy>=1.13.3 in c:\\users\\aya lajili\\anaconda3\\lib\\site-packages (from imbalanced-learn->imblearn) (1.19.2)\n",
      "Requirement already satisfied: scipy>=0.19.1 in c:\\users\\aya lajili\\anaconda3\\lib\\site-packages (from imbalanced-learn->imblearn) (1.5.2)\n",
      "Requirement already satisfied: joblib>=0.11 in c:\\users\\aya lajili\\anaconda3\\lib\\site-packages (from imbalanced-learn->imblearn) (0.17.0)\n",
      "Requirement already satisfied: threadpoolctl>=2.0.0 in c:\\users\\aya lajili\\anaconda3\\lib\\site-packages (from scikit-learn>=0.24->imbalanced-learn->imblearn) (2.1.0)\n"
     ]
    }
   ],
   "source": [
    "! pip install imblearn"
   ]
  },
  {
   "cell_type": "code",
   "execution_count": 21,
   "metadata": {},
   "outputs": [
    {
     "name": "stdout",
     "output_type": "stream",
     "text": [
      "Requirement already satisfied: SMOTE in c:\\users\\aya lajili\\anaconda3\\lib\\site-packages (0.1)\n",
      "Requirement already satisfied: numpy>=1.14.3 in c:\\users\\aya lajili\\anaconda3\\lib\\site-packages (from SMOTE) (1.19.2)\n",
      "Requirement already satisfied: scikit-learn>=0.19.1 in c:\\users\\aya lajili\\anaconda3\\lib\\site-packages (from SMOTE) (0.24.1)\n",
      "Requirement already satisfied: joblib>=0.11 in c:\\users\\aya lajili\\anaconda3\\lib\\site-packages (from scikit-learn>=0.19.1->SMOTE) (0.17.0)\n",
      "Requirement already satisfied: threadpoolctl>=2.0.0 in c:\\users\\aya lajili\\anaconda3\\lib\\site-packages (from scikit-learn>=0.19.1->SMOTE) (2.1.0)\n",
      "Requirement already satisfied: scipy>=0.19.1 in c:\\users\\aya lajili\\anaconda3\\lib\\site-packages (from scikit-learn>=0.19.1->SMOTE) (1.5.2)\n"
     ]
    }
   ],
   "source": [
    "!pip install SMOTE"
   ]
  },
  {
   "cell_type": "code",
   "execution_count": 13,
   "metadata": {},
   "outputs": [],
   "source": [
    "#Compare SMOTE to original data\n",
    "#You saw that using SMOTE suddenly gives us more observations of the minority class. Let's compare those results to our original data, to get a good feeling for what has actually happened. Let's have a look at the value counts again of our old and new data, and let's plot the two scatter plots of the data side by side. You'll use the function compare_plot() for that that, which takes the following arguments: X, y, X_resampled, y_resampled, method=''. The function plots your original data in a scatter plot, along with the resampled side by side.\n",
    "#Instructions\n",
    "#Print the value counts of our original labels, y. Be mindful that y is currently a Numpy array, so in order to use value counts, we'll assign y back as a pandas Series object.\n",
    "#Repeat the step and print the value counts on y_resampled. This shows you how the balance between the two classes has changed with SMOTE.\n",
    "#Use the compare_plot() function called on our original data as well our resampled data to see the scatterplots side by side."
   ]
  },
  {
   "cell_type": "code",
   "execution_count": 22,
   "metadata": {},
   "outputs": [],
   "source": [
    "import pandas as pd\n",
    "import matplotlib.pyplot as plt\n",
    "from matplotlib.patches import Rectangle\n",
    "import numpy as np\n",
    "from pprint import pprint as pp\n",
    "import csv\n",
    "from pathlib import Path\n",
    "import seaborn as sns\n",
    "from itertools import product\n",
    "import string\n",
    "\n",
    "import nltk\n",
    "from nltk.corpus import stopwords\n",
    "from nltk.stem.wordnet import WordNetLemmatizer\n",
    "\n",
    "from imblearn.over_sampling import SMOTE\n",
    "from imblearn.over_sampling import BorderlineSMOTE\n",
    "from imblearn.pipeline import Pipeline \n",
    "\n",
    "from sklearn.linear_model import LinearRegression, LogisticRegression\n",
    "from sklearn.model_selection import train_test_split, GridSearchCV\n",
    "from sklearn.tree import DecisionTreeClassifier\n",
    "from sklearn.metrics import r2_score, classification_report, confusion_matrix, accuracy_score, roc_auc_score, roc_curve, precision_recall_curve, average_precision_score\n",
    "from sklearn.metrics import homogeneity_score, silhouette_score\n",
    "from sklearn.ensemble import RandomForestClassifier, VotingClassifier\n",
    "from sklearn.preprocessing import MinMaxScaler\n",
    "from sklearn.cluster import MiniBatchKMeans, DBSCAN\n",
    "from sklearn.utils import resample"
   ]
  },
  {
   "cell_type": "code",
   "execution_count": 25,
   "metadata": {},
   "outputs": [
    {
     "data": {
      "image/png": "[encoded data removed]",
      "text/plain": [
       "<Figure size 432x288 with 1 Axes>"
      ]
     },
     "metadata": {
      "needs_background": "light"
     },
     "output_type": "display_data"
    }
   ],
   "source": [
    "from imblearn.over_sampling import SMOTE\n",
    "from imblearn.over_sampling import BorderlineSMOTE\n",
    "# Run the prep_data function\n",
    "X, y = prep_data(data)\n",
    "# Define the resampling method\n",
    "method = SMOTE()\n",
    "# Create the resampled feature set\n",
    "X_resampled, y_resampled = method.fit_resample(X, y)\n",
    "# Plot the resampled data\n",
    "plot_data(X_resampled, y_resampled)"
   ]
  },
  {
   "cell_type": "code",
   "execution_count": 34,
   "metadata": {},
   "outputs": [
    {
     "name": "stdout",
     "output_type": "stream",
     "text": [
      "1    7000\n",
      "0    7000\n",
      "dtype: int64\n"
     ]
    }
   ],
   "source": [
    "X_resampled, y_resampled = method.fit_resample(X, y)\n",
    "print(pd.value_counts(pd.Series(y_resampled)))"
   ]
  },
  {
   "cell_type": "code",
   "execution_count": 26,
   "metadata": {},
   "outputs": [],
   "source": [
    "def compare_plot(X: np.ndarray, y: np.ndarray, X_resampled: np.ndarray, y_resampled: np.ndarray, method: str):\n",
    "    plt.subplot(1, 2, 1)\n",
    "    plt.scatter(X[y == 0, 0], X[y == 0, 1], label=\"Class #0\", alpha=0.5, linewidth=0.15)\n",
    "    plt.scatter(X[y == 1, 0], X[y == 1, 1], label=\"Class #1\", alpha=0.5, linewidth=0.15, c='r')\n",
    "    plt.title('Original Set')\n",
    "    plt.subplot(1, 2, 2)\n",
    "    plt.scatter(X_resampled[y_resampled == 0, 0], X_resampled[y_resampled == 0, 1], label=\"Class #0\", alpha=0.5, linewidth=0.15)\n",
    "    plt.scatter(X_resampled[y_resampled == 1, 0], X_resampled[y_resampled == 1, 1], label=\"Class #1\", alpha=0.5, linewidth=0.15, c='r')\n",
    "    plt.title(method)\n",
    "    plt.legend()\n",
    "    plt.show()"
   ]
  },
  {
   "cell_type": "code",
   "execution_count": 37,
   "metadata": {},
   "outputs": [
    {
     "name": "stdout",
     "output_type": "stream",
     "text": [
      "0    7000\n",
      "1     300\n",
      "dtype: int64\n",
      "1    7000\n",
      "0    7000\n",
      "dtype: int64\n"
     ]
    },
    {
     "data": {
      "image/png": "[encoded data removed]",
      "text/plain": [
       "<Figure size 432x288 with 2 Axes>"
      ]
     },
     "metadata": {
      "needs_background": "light"
     },
     "output_type": "display_data"
    }
   ],
   "source": [
    "print(pd.value_counts(pd.Series(y)))\n",
    "# Print the value_counts\n",
    "print(pd.value_counts(pd.Series(y_resampled)))\n",
    "# Run compare_plot\n",
    "compare_plot(X, y,X_resampled, y_resampled, method='SMOTE')"
   ]
  },
  {
   "cell_type": "code",
   "execution_count": 12,
   "metadata": {},
   "outputs": [],
   "source": [
    "#It should by now be clear that SMOTE has balanced our data completely, and that the minority class is now equal in size to the majority class. Visualizing the data shows the effect on the data very clearly."
   ]
  },
  {
   "cell_type": "code",
   "execution_count": 27,
   "metadata": {},
   "outputs": [
    {
     "data": {
      "text/html": [
       "<div>\n",
       "<style scoped>\n",
       "    .dataframe tbody tr th:only-of-type {\n",
       "        vertical-align: middle;\n",
       "    }\n",
       "\n",
       "    .dataframe tbody tr th {\n",
       "        vertical-align: top;\n",
       "    }\n",
       "\n",
       "    .dataframe thead th {\n",
       "        text-align: right;\n",
       "    }\n",
       "</style>\n",
       "<table border=\"1\" class=\"dataframe\">\n",
       "  <thead>\n",
       "    <tr style=\"text-align: right;\">\n",
       "      <th></th>\n",
       "      <th>V1</th>\n",
       "      <th>V2</th>\n",
       "      <th>V3</th>\n",
       "      <th>V4</th>\n",
       "      <th>V5</th>\n",
       "      <th>V6</th>\n",
       "      <th>V7</th>\n",
       "      <th>V8</th>\n",
       "      <th>V9</th>\n",
       "      <th>V10</th>\n",
       "      <th>...</th>\n",
       "      <th>V20</th>\n",
       "      <th>V21</th>\n",
       "      <th>V22</th>\n",
       "      <th>V23</th>\n",
       "      <th>V24</th>\n",
       "      <th>V25</th>\n",
       "      <th>V26</th>\n",
       "      <th>V27</th>\n",
       "      <th>V28</th>\n",
       "      <th>Amount</th>\n",
       "    </tr>\n",
       "    <tr>\n",
       "      <th>Class</th>\n",
       "      <th></th>\n",
       "      <th></th>\n",
       "      <th></th>\n",
       "      <th></th>\n",
       "      <th></th>\n",
       "      <th></th>\n",
       "      <th></th>\n",
       "      <th></th>\n",
       "      <th></th>\n",
       "      <th></th>\n",
       "      <th></th>\n",
       "      <th></th>\n",
       "      <th></th>\n",
       "      <th></th>\n",
       "      <th></th>\n",
       "      <th></th>\n",
       "      <th></th>\n",
       "      <th></th>\n",
       "      <th></th>\n",
       "      <th></th>\n",
       "      <th></th>\n",
       "    </tr>\n",
       "  </thead>\n",
       "  <tbody>\n",
       "    <tr>\n",
       "      <th>0</th>\n",
       "      <td>0.010316</td>\n",
       "      <td>0.008078</td>\n",
       "      <td>0.014729</td>\n",
       "      <td>0.008060</td>\n",
       "      <td>0.015409</td>\n",
       "      <td>0.006414</td>\n",
       "      <td>0.034744</td>\n",
       "      <td>-0.004843</td>\n",
       "      <td>0.008350</td>\n",
       "      <td>0.021082</td>\n",
       "      <td>...</td>\n",
       "      <td>0.000334</td>\n",
       "      <td>0.002805</td>\n",
       "      <td>-0.006658</td>\n",
       "      <td>0.004198</td>\n",
       "      <td>0.001145</td>\n",
       "      <td>-0.001243</td>\n",
       "      <td>0.010977</td>\n",
       "      <td>0.004371</td>\n",
       "      <td>0.001989</td>\n",
       "      <td>89.084347</td>\n",
       "    </tr>\n",
       "    <tr>\n",
       "      <th>1</th>\n",
       "      <td>-4.957125</td>\n",
       "      <td>3.701927</td>\n",
       "      <td>-7.118341</td>\n",
       "      <td>4.513141</td>\n",
       "      <td>-3.482910</td>\n",
       "      <td>-1.339842</td>\n",
       "      <td>-5.743580</td>\n",
       "      <td>0.830079</td>\n",
       "      <td>-2.624878</td>\n",
       "      <td>-5.827242</td>\n",
       "      <td>...</td>\n",
       "      <td>0.332810</td>\n",
       "      <td>0.738976</td>\n",
       "      <td>0.069193</td>\n",
       "      <td>0.000879</td>\n",
       "      <td>-0.066388</td>\n",
       "      <td>0.001507</td>\n",
       "      <td>0.027739</td>\n",
       "      <td>0.125095</td>\n",
       "      <td>0.095441</td>\n",
       "      <td>120.440500</td>\n",
       "    </tr>\n",
       "  </tbody>\n",
       "</table>\n",
       "<p>2 rows × 29 columns</p>\n",
       "</div>"
      ],
      "text/plain": [
       "             V1        V2        V3        V4        V5        V6        V7  \\\n",
       "Class                                                                         \n",
       "0      0.010316  0.008078  0.014729  0.008060  0.015409  0.006414  0.034744   \n",
       "1     -4.957125  3.701927 -7.118341  4.513141 -3.482910 -1.339842 -5.743580   \n",
       "\n",
       "             V8        V9       V10  ...       V20       V21       V22  \\\n",
       "Class                                ...                                 \n",
       "0     -0.004843  0.008350  0.021082  ...  0.000334  0.002805 -0.006658   \n",
       "1      0.830079 -2.624878 -5.827242  ...  0.332810  0.738976  0.069193   \n",
       "\n",
       "            V23       V24       V25       V26       V27       V28      Amount  \n",
       "Class                                                                          \n",
       "0      0.004198  0.001145 -0.001243  0.010977  0.004371  0.001989   89.084347  \n",
       "1      0.000879 -0.066388  0.001507  0.027739  0.125095  0.095441  120.440500  \n",
       "\n",
       "[2 rows x 29 columns]"
      ]
     },
     "execution_count": 27,
     "metadata": {},
     "output_type": "execute_result"
    }
   ],
   "source": [
    "data.groupby('Class').mean()"
   ]
  },
  {
   "cell_type": "code",
   "execution_count": 28,
   "metadata": {},
   "outputs": [
    {
     "name": "stdout",
     "output_type": "stream",
     "text": [
      "             V1        V2        V3        V4        V5        V6        V7  \\\n",
      "Class                                                                         \n",
      "0      0.010316  0.008078  0.014729  0.008060  0.015409  0.006414  0.034744   \n",
      "1     -4.957125  3.701927 -7.118341  4.513141 -3.482910 -1.339842 -5.743580   \n",
      "\n",
      "             V8        V9       V10  ...       V20       V21       V22  \\\n",
      "Class                                ...                                 \n",
      "0     -0.004843  0.008350  0.021082  ...  0.000334  0.002805 -0.006658   \n",
      "1      0.830079 -2.624878 -5.827242  ...  0.332810  0.738976  0.069193   \n",
      "\n",
      "            V23       V24       V25       V26       V27       V28      Amount  \n",
      "Class                                                                          \n",
      "0      0.004198  0.001145 -0.001243  0.010977  0.004371  0.001989   89.084347  \n",
      "1      0.000879 -0.066388  0.001507  0.027739  0.125095  0.095441  120.440500  \n",
      "\n",
      "[2 rows x 29 columns]\n",
      "Flagged Fraud     0    1\n",
      "Actual Fraud            \n",
      "0              6967   33\n",
      "1               190  110\n"
     ]
    }
   ],
   "source": [
    "# Get the mean for each group\n",
    "print(data.groupby(data.Class).mean())\n",
    "# Implement a rule for stating which cases are flagged as fraud\n",
    "data['flag_as_fraud'] = np.where(np.logical_and(data.V1<-3,data.V3<-5), 1, 0)\n",
    "# Create a crosstab of flagged fraud cases versus the actual fraud cases\n",
    "print(pd.crosstab(data.Class, data.flag_as_fraud, rownames=['Actual Fraud'], colnames=['Flagged Fraud']))"
   ]
  },
  {
   "cell_type": "code",
   "execution_count": 30,
   "metadata": {},
   "outputs": [],
   "source": [
    "import warnings\n",
    "warnings.filterwarnings('ignore')\n",
    "warnings.simplefilter('ignore')"
   ]
  },
  {
   "cell_type": "code",
   "execution_count": 10,
   "metadata": {},
   "outputs": [],
   "source": [
    "#With this rule, 110 cases of fraud are detected, 190 are not detected, and  33 false positives are identified."
   ]
  },
  {
   "cell_type": "code",
   "execution_count": 11,
   "metadata": {},
   "outputs": [],
   "source": [
    "#Using ML classification to catch fraud\n",
    "# you'll see what happens when you use a simple machine learning model on our credit card data instead.\n",
    "#Do you think you can beat those results? Remember, you've predicted 110 out 300, and had 33 false positives.\n",
    "#So with that in mind, let's implement a Logistic Regression model. If you have taken the class on supervised learning in Python, you should be familiar with this model. If not, you might want to refresh that at this point. But don't worry, you'll be guided through the structure of the machine learning model."
   ]
  },
  {
   "cell_type": "code",
   "execution_count": 31,
   "metadata": {},
   "outputs": [
    {
     "name": "stdout",
     "output_type": "stream",
     "text": [
      "Classification report:\n",
      "               precision    recall  f1-score   support\n",
      "\n",
      "           0       0.99      1.00      1.00      1403\n",
      "           1       1.00      0.84      0.91        57\n",
      "\n",
      "    accuracy                           0.99      1460\n",
      "   macro avg       1.00      0.92      0.96      1460\n",
      "weighted avg       0.99      0.99      0.99      1460\n",
      "\n",
      "Confusion matrix:\n",
      " [[1403    0]\n",
      " [   9   48]]\n"
     ]
    }
   ],
   "source": [
    "X = data.iloc[:, 2:30].values\n",
    "y = data.Class.values\n",
    "# Create the training and testing sets\n",
    "X_train, X_test, y_train, y_test = train_test_split(X,y, test_size=0.20, random_state=0)\n",
    "# Fit a logistic regression model to our data\n",
    "model = LogisticRegression()\n",
    "model.fit(X_train,y_train)\n",
    "# Obtain model predictions\n",
    "predicted = model.predict(X_test)\n",
    "# Print the classifcation report and confusion matrix\n",
    "print('Classification report:\\n', classification_report(y_test,predicted))\n",
    "conf_mat = confusion_matrix(y_true=y_test, y_pred=predicted)\n",
    "print('Confusion matrix:\\n', conf_mat)"
   ]
  },
  {
   "cell_type": "code",
   "execution_count": 32,
   "metadata": {},
   "outputs": [
    {
     "data": {
      "text/plain": [
       "0.8356904377836966"
      ]
     },
     "execution_count": 32,
     "metadata": {},
     "output_type": "execute_result"
    }
   ],
   "source": [
    "r2_score(y_test, predicted)"
   ]
  },
  {
   "cell_type": "code",
   "execution_count": 34,
   "metadata": {},
   "outputs": [],
   "source": [
    "# This is the pipeline module we need for this from imblearn\n",
    "from imblearn.pipeline import Pipeline \n",
    "# Define which resampling method and which ML model to use in the pipeline\n",
    "resampling=BorderlineSMOTE()\n",
    "model = LogisticRegression()\n",
    "# Define the pipeline, tell it to combine SMOTE with the Logistic Regression model\n",
    "pipeline = Pipeline([('SMOTE', resampling), ('Logistic Regression', model)])"
   ]
  },
  {
   "cell_type": "code",
   "execution_count": 35,
   "metadata": {},
   "outputs": [
    {
     "name": "stdout",
     "output_type": "stream",
     "text": [
      "Classifcation report:\n",
      "               precision    recall  f1-score   support\n",
      "\n",
      "           0       1.00      1.00      1.00      2099\n",
      "           1       0.92      0.96      0.94        91\n",
      "\n",
      "    accuracy                           0.99      2190\n",
      "   macro avg       0.96      0.98      0.97      2190\n",
      "weighted avg       0.99      0.99      0.99      2190\n",
      "\n",
      "Confusion matrix:\n",
      " [[2091    8]\n",
      " [   4   87]]\n"
     ]
    }
   ],
   "source": [
    "# Split your data X and y, into a training and a test set and fit the pipeline onto the training data\n",
    "X_train, X_test, y_train, y_test = train_test_split(X,y,test_size=0.30,random_state=0)\n",
    "\n",
    "# Fit your pipeline onto your training set and obtain predictions by fitting the model onto the test data \n",
    "pipeline.fit(X_train, y_train) \n",
    "predicted = pipeline.predict(X_test)\n",
    "\n",
    "# Obtain the results from the classification report and confusion matrix \n",
    "print('Classifcation report:\\n', classification_report(y_test, predicted))\n",
    "conf_mat = confusion_matrix(y_true=y_test, y_pred=predicted)\n",
    "print('Confusion matrix:\\n', conf_mat)"
   ]
  },
  {
   "cell_type": "code",
   "execution_count": 36,
   "metadata": {},
   "outputs": [],
   "source": [
    "#Natural hit rate\n",
    "#You'll again use credit card transaction data, and the data is heavily imbalanced. We've given you features X and labels y to work with already, which are both numpy arrays.\n",
    "#First you need to explore how prevalent fraud is in the dataset, to understand what the \"natural accuracy\" is, if we were to predict everything as non-fraud. It's is important to understand which level of \"accuracy\" you need to \"beat\" in order to get a better prediction than by doing nothing. In the following exercises, you'll create our first random forest classifier for fraud detection. That will serve as the \"baseline\" model."
   ]
  },
  {
   "cell_type": "code",
   "execution_count": 37,
   "metadata": {},
   "outputs": [
    {
     "name": "stdout",
     "output_type": "stream",
     "text": [
      "95.89%\n"
     ]
    }
   ],
   "source": [
    "# Count the total number of observations from the length of y\n",
    "total_obs = len(y)\n",
    "# Count the total number of non-fraudulent observations \n",
    "non_fraud =  [i for i in y if i == 0]\n",
    "count_non_fraud = non_fraud.count(0)\n",
    "# Calculate the percentage of non fraud observations in the dataset\n",
    "percentage = (float(count_non_fraud)/float(total_obs)) * 100\n",
    "# Print the percentage: this is our \"natural accuracy\" by doing nothing\n",
    "print(f'{percentage:0.2f}%')"
   ]
  },
  {
   "cell_type": "code",
   "execution_count": null,
   "metadata": {},
   "outputs": [],
   "source": [
    "#Random Forest Classifier - part 1\n",
    "#Let's now create a first random forest classifier for fraud detection. Hopefully you can do better than the baseline accuracy you've just calculated, which was roughly 96%. This model will serve as the \"baseline\" model that you're going to try to improve in the upcoming exercises. Let's start first with splitting the data into a test and training set, and defining the Random Forest model. The data available are features X and labels y."
   ]
  },
  {
   "cell_type": "code",
   "execution_count": 38,
   "metadata": {},
   "outputs": [],
   "source": [
    "# Import the random forest model from sklearn\n",
    "from sklearn.ensemble import RandomForestClassifier\n",
    "# Split your data into training and test set\n",
    "X_train, X_test, y_train, y_test = train_test_split(X, y, test_size=0.3, random_state=0)\n",
    "# Define the model as the random forest\n",
    "model =  RandomForestClassifier(random_state=5)"
   ]
  },
  {
   "cell_type": "code",
   "execution_count": null,
   "metadata": {},
   "outputs": [],
   "source": [
    "#Random Forest Classifier - part 2\n",
    "#Let's see how our Random Forest model performs without doing anything special to it. The model from the previous exercise is available, and you've already split your data in X_train, y_train, X_test, y_test."
   ]
  },
  {
   "cell_type": "code",
   "execution_count": 40,
   "metadata": {},
   "outputs": [],
   "source": [
    "# Fit the model to our training set\n",
    "model.fit(X_train, y_train)\n",
    "# Obtain predictions from the test data \n",
    "predicted = model.predict(X_test)"
   ]
  },
  {
   "cell_type": "code",
   "execution_count": 41,
   "metadata": {},
   "outputs": [
    {
     "name": "stdout",
     "output_type": "stream",
     "text": [
      "1.0\n"
     ]
    }
   ],
   "source": [
    "# Fit the model to our training set\n",
    "model.fit(X_train, y_train)\n",
    "# Obtain predictions from the test data \n",
    "predicted = model.predict(X_test)\n",
    "# Print the accuracy performance metric\n",
    "print(accuracy_score(y_test,predicted))"
   ]
  },
  {
   "cell_type": "code",
   "execution_count": null,
   "metadata": {},
   "outputs": [],
   "source": [
    "#Performance metrics for the RF model\n",
    "#In the previous exercises you obtained an accuracy score for your random forest model. This time, we know accuracy can be misleading in the case of fraud detection. With highly imbalanced fraud data, the AUROC curve is a more reliable performance metric, used to compare different classifiers. Moreover, the classification report tells you about the precision and recall of your model, whilst the confusion matrix actually shows how many fraud cases you can predict correctly. So let's get these performance metrics.\n",
    "#You'll continue working on the same random forest model from the previous exercise. Your model, defined as model = RandomForestClassifier(random_state=5) has been fitted to your training data already, and X_train, y_train, X_test, y_test are available."
   ]
  },
  {
   "cell_type": "code",
   "execution_count": 42,
   "metadata": {},
   "outputs": [
    {
     "name": "stdout",
     "output_type": "stream",
     "text": [
      "1.0\n",
      "              precision    recall  f1-score   support\n",
      "\n",
      "           0       1.00      1.00      1.00      2099\n",
      "           1       1.00      1.00      1.00        91\n",
      "\n",
      "    accuracy                           1.00      2190\n",
      "   macro avg       1.00      1.00      1.00      2190\n",
      "weighted avg       1.00      1.00      1.00      2190\n",
      "\n",
      "[[2099    0]\n",
      " [   0   91]]\n"
     ]
    }
   ],
   "source": [
    "# Import the packages to get the different performance metrics\n",
    "from sklearn.metrics import classification_report, confusion_matrix, roc_auc_score\n",
    "# Obtain the predictions from our random forest model \n",
    "predicted = model.predict(X_test)\n",
    "# Predict probabilities\n",
    "probs = model.predict_proba(X_test)\n",
    "# Print the ROC curve, classification report and confusion matrix\n",
    "print(roc_auc_score(y_test, probs[:,1]))\n",
    "print(classification_report(y_test, predicted))\n",
    "print(confusion_matrix(y_test, predicted))"
   ]
  },
  {
   "cell_type": "code",
   "execution_count": 43,
   "metadata": {},
   "outputs": [],
   "source": [
    "#Plotting the Precision Recall Curve\n",
    "#You can also plot a Precision-Recall curve, to investigate the trade-off between the two in your model. In this curve Precision and Recall are inversely related; as Precision increases, Recall falls and vice-versa. A balance between these two needs to be achieved in your model, otherwise you might end up with many false positives, or not enough actual fraud cases caught. To achieve this and to compare performance, the precision-recall curves come in handy.\n",
    "#Your Random Forest Classifier is available as model, and the predictions as predicted. You can simply obtain the average precision score and the PR curve from the sklearn package. The function plot_pr_curve() plots the results for you. Let's give it a try."
   ]
  },
  {
   "cell_type": "code",
   "execution_count": 45,
   "metadata": {},
   "outputs": [],
   "source": [
    "def plot_pr_curve(recall, precision, average_precision):\n",
    "    \"\"\"\n",
    "    https://scikit-learn.org/stable/auto_examples/model_selection/plot_precision_recall.html\n",
    "    \"\"\"\n",
    "    from inspect import signature\n",
    "    plt.figure()\n",
    "    step_kwargs = ({'step': 'post'}\n",
    "                   if 'step' in signature(plt.fill_between).parameters\n",
    "                   else {})\n",
    "    plt.step(recall, precision, color='b', alpha=0.2, where='post')\n",
    "    plt.fill_between(recall, precision, alpha=0.2, color='b', **step_kwargs)\n",
    "    plt.xlabel('Recall')\n",
    "    plt.ylabel('Precision')\n",
    "    plt.ylim([0.0, 1.0])\n",
    "    plt.xlim([0.0, 1.0])\n",
    "    plt.title(f'2-class Precision-Recall curve: AP={average_precision:0.2f}')\n",
    "    return plt.show()"
   ]
  },
  {
   "cell_type": "code",
   "execution_count": 48,
   "metadata": {},
   "outputs": [
    {
     "data": {
      "image/png": "[encoded data removed]",
      "text/plain": [
       "<Figure size 432x288 with 1 Axes>"
      ]
     },
     "metadata": {
      "needs_background": "light"
     },
     "output_type": "display_data"
    }
   ],
   "source": [
    "# Calculate average precision and the PR curve\n",
    "average_precision = average_precision_score(y_test, predicted)\n",
    "# Obtain precision and recall \n",
    "precision, recall,_= precision_recall_curve(y_test, predicted)\n",
    "# Plot the recall precision tradeoff\n",
    "plot_pr_curve(recall, precision, average_precision)"
   ]
  },
  {
   "cell_type": "code",
   "execution_count": null,
   "metadata": {},
   "outputs": [],
   "source": [
    "#Model adjustments\n",
    "#A simple way to adjust the random forest model to deal with highly imbalanced fraud data, is to use the class_weights option when defining your sklearn model. However, as you will see, it is a bit of a blunt force mechanism and might not work for your very special case."
   ]
  },
  {
   "cell_type": "code",
   "execution_count": 50,
   "metadata": {},
   "outputs": [
    {
     "name": "stdout",
     "output_type": "stream",
     "text": [
      "              precision    recall  f1-score   support\n",
      "\n",
      "           0       1.00      1.00      1.00      2099\n",
      "           1       1.00      1.00      1.00        91\n",
      "\n",
      "    accuracy                           1.00      2190\n",
      "   macro avg       1.00      1.00      1.00      2190\n",
      "weighted avg       1.00      1.00      1.00      2190\n",
      "\n",
      "1.0\n",
      "[[2099    0]\n",
      " [   0   91]]\n"
     ]
    }
   ],
   "source": [
    "# Define the model with balanced subsample\n",
    "model = RandomForestClassifier(class_weight='balanced_subsample', random_state=5)\n",
    "# Fit your training model to your training set\n",
    "model.fit(X_train,y_train)\n",
    "# Obtain the predicted values and probabilities from the model \n",
    "predicted = model.predict(X_test)\n",
    "probs = model.predict_proba(X_test)\n",
    "# Print the roc_auc_score, the classification report and confusion matrix\n",
    "print(classification_report(y_test, predicted))\n",
    "print(roc_auc_score(y_test,probs[:,1]))\n",
    "print(confusion_matrix(y_test,predicted))"
   ]
  },
  {
   "cell_type": "code",
   "execution_count": 53,
   "metadata": {},
   "outputs": [],
   "source": [
    "def get_model_results(X_train: np.ndarray, y_train: np.ndarray,\n",
    "                      X_test: np.ndarray, y_test: np.ndarray, model):\n",
    "    \"\"\"\n",
    "    model: sklearn model (e.g. RandomForestClassifier)\n",
    "    \"\"\"\n",
    "    # Fit your training model to your training set\n",
    "    model.fit(X_train, y_train)\n",
    "\n",
    "    # Obtain the predicted values and probabilities from the model \n",
    "    predicted = model.predict(X_test)\n",
    "    \n",
    "    try:\n",
    "        probs = model.predict_proba(X_test)\n",
    "        print('ROC Score:')\n",
    "        print(roc_auc_score(y_test, probs[:,1]))\n",
    "    except AttributeError:\n",
    "        pass\n",
    "\n",
    "    # Print the ROC curve, classification report and confusion matrix\n",
    "    print('\\nClassification Report:')\n",
    "    print(classification_report(y_test, predicted))\n",
    "    print('\\nConfusion Matrix:')\n",
    "    print(confusion_matrix(y_test, predicted))"
   ]
  },
  {
   "cell_type": "code",
   "execution_count": 54,
   "metadata": {},
   "outputs": [
    {
     "name": "stdout",
     "output_type": "stream",
     "text": [
      "ROC Score:\n",
      "0.9991989906234785\n",
      "\n",
      "Classification Report:\n",
      "              precision    recall  f1-score   support\n",
      "\n",
      "           0       0.99      1.00      1.00      2099\n",
      "           1       0.96      0.86      0.91        91\n",
      "\n",
      "    accuracy                           0.99      2190\n",
      "   macro avg       0.98      0.93      0.95      2190\n",
      "weighted avg       0.99      0.99      0.99      2190\n",
      "\n",
      "\n",
      "Confusion Matrix:\n",
      "[[2096    3]\n",
      " [  13   78]]\n"
     ]
    }
   ],
   "source": [
    "# Change the model options\n",
    "model = RandomForestClassifier(bootstrap=True, class_weight={0:1, 1:12}, criterion='entropy',\n",
    "# Change depth of model\n",
    "max_depth=10,\n",
    "# Change the number of samples in leaf nodes\n",
    " min_samples_leaf=10, \n",
    "# Change the number of trees to use\n",
    "n_estimators=20, n_jobs=-1, random_state=5)\n",
    "# Run the function get_model_results\n",
    "get_model_results(X_train, y_train, X_test, y_test, model)"
   ]
  },
  {
   "cell_type": "code",
   "execution_count": null,
   "metadata": {},
   "outputs": [],
   "source": [
    "#GridSearchCV to find optimal parameters\n",
    "# you're going to tweak our model in a less \"random\" way, but use GridSearchCV to do the work for you.\n",
    "#With GridSearchCV you can define which performance metric to score the options on. Since for fraud detection we are mostly interested in catching as many fraud cases as possible, you can optimize your model settings to get the best possible Recall score. If you also cared about reducing the number of false positives, you could optimize on F1-score, this gives you that nice Precision-Recall trade-off.\n",
    "#GridSearchCV has already been imported from sklearn.model_selection, so let's give it a try!"
   ]
  },
  {
   "cell_type": "code",
   "execution_count": 55,
   "metadata": {},
   "outputs": [
    {
     "data": {
      "text/plain": [
       "{'criterion': 'gini',\n",
       " 'max_depth': 8,\n",
       " 'max_features': 'auto',\n",
       " 'n_estimators': 30}"
      ]
     },
     "execution_count": 55,
     "metadata": {},
     "output_type": "execute_result"
    }
   ],
   "source": [
    "# Define the parameter sets to test\n",
    "param_grid = {'n_estimators': [1, 30], 'max_features': ['auto', 'log2'],  'max_depth': [4, 8], 'criterion': ['gini', 'entropy']\n",
    "}\n",
    "# Define the model to use\n",
    "model = RandomForestClassifier(random_state=5)\n",
    "# Combine the parameter sets with the defined model\n",
    "CV_model = GridSearchCV(estimator=model, param_grid=param_grid, cv=5, scoring='recall', n_jobs=-1)\n",
    "# Fit the model to our training data and obtain best parameters\n",
    "CV_model.fit(X_train,y_train)\n",
    "CV_model.best_params_"
   ]
  },
  {
   "cell_type": "code",
   "execution_count": null,
   "metadata": {},
   "outputs": [],
   "source": [
    "#Model results using GridSearchCV\n",
    "#You discovered that the best parameters for your model are that the split criterion should be set to 'gini', the number of estimators (trees) should be 30, the maximum depth of the model should be 8 and the maximum features should be set to \"log2\".\n",
    "#Let's give this a try and see how well our model performs. You can use the get_model_results() function again to save time."
   ]
  },
  {
   "attachments": {
    "confusion_matrix_advanced.jpg": {
     "image/jpeg": "[encoded data removed]"
    }
   },
   "cell_type": "markdown",
   "metadata": {},
   "source": [
    "![confusion_matrix_advanced.jpg](attachment:confusion_matrix_advanced.jpg)"
   ]
  },
  {
   "attachments": {
    "confusion_matrix.jpg": {
     "image/jpeg": "[encoded data removed]"
    }
   },
   "cell_type": "markdown",
   "metadata": {},
   "source": [
    "#Confusion Matrix\n",
    "#False Positives (FP) / False Negatives (FN)\n",
    "FN: predicts the person is not pregnant, but actually is\n",
    "Cases of fraud not caught by the model\n",
    "FP: predicts the person is pregnant, but actually is not\n",
    "Cases of 'false alarm'\n",
    "the business case determines whether FN or FP cases are more important\n",
    "a credit card company might want to catch as much fraud as possible and reduce false negatives, as fraudulent transactions can be incredibly costly\n",
    "a false alarm just means a transaction is blocked\n",
    "an insurance company can't handle many false alarms, as it means getting a team of investigators involved for each positive prediction\n",
    "True Positives / True Negatives are the cases predicted correctly (e.g. fraud / non-fraud)\n",
    "![confusion_matrix.jpg](attachment:confusion_matrix.jpg)"
   ]
  },
  {
   "cell_type": "code",
   "execution_count": 56,
   "metadata": {},
   "outputs": [
    {
     "name": "stdout",
     "output_type": "stream",
     "text": [
      "ROC Score:\n",
      "0.9998534100487412\n",
      "\n",
      "Classification Report:\n",
      "              precision    recall  f1-score   support\n",
      "\n",
      "           0       0.99      1.00      1.00      2099\n",
      "           1       0.99      0.87      0.92        91\n",
      "\n",
      "    accuracy                           0.99      2190\n",
      "   macro avg       0.99      0.93      0.96      2190\n",
      "weighted avg       0.99      0.99      0.99      2190\n",
      "\n",
      "\n",
      "Confusion Matrix:\n",
      "[[2098    1]\n",
      " [  12   79]]\n"
     ]
    }
   ],
   "source": [
    "model = RandomForestClassifier(class_weight={0:1,1:12},criterion='gini',\n",
    "                               max_depth=8,\n",
    "                               max_features='log2', \n",
    "                               min_samples_leaf=10,\n",
    "                               n_estimators=30,\n",
    "                               n_jobs=-1,\n",
    "                       random_state=5)\n",
    "# Get results from your model\n",
    "get_model_results(X_train,y_train,X_test,y_test,model)"
   ]
  },
  {
   "cell_type": "code",
   "execution_count": null,
   "metadata": {},
   "outputs": [],
   "source": [
    "#Logistic Regression\n",
    "# you'll combine three algorithms into one model with the VotingClassifier. This allows us to benefit from the different aspects from all models, and hopefully improve overall performance and detect more fraud. The first model, the Logistic Regression, has a slightly higher recall score than our optimal Random Forest model, but gives a lot more false positives. You'll also add a Decision Tree with balanced weights to it. The data is already split into a training and test set, i.e. X_train, y_train, X_test, y_test are available.\n",
    "#In order to understand how the Voting Classifier can potentially improve your original model, you should check the standalone results of the Logistic Regression model first."
   ]
  },
  {
   "cell_type": "code",
   "execution_count": 58,
   "metadata": {},
   "outputs": [
    {
     "name": "stdout",
     "output_type": "stream",
     "text": [
      "ROC Score:\n",
      "0.9998481746933391\n",
      "\n",
      "Classification Report:\n",
      "              precision    recall  f1-score   support\n",
      "\n",
      "           0       1.00      1.00      1.00      2099\n",
      "           1       0.95      1.00      0.97        91\n",
      "\n",
      "    accuracy                           1.00      2190\n",
      "   macro avg       0.97      1.00      0.99      2190\n",
      "weighted avg       1.00      1.00      1.00      2190\n",
      "\n",
      "\n",
      "Confusion Matrix:\n",
      "[[2094    5]\n",
      " [   0   91]]\n"
     ]
    }
   ],
   "source": [
    "# Define the Logistic Regression model with weights\n",
    "model = LogisticRegression(class_weight={0:1,1:15},random_state=5)\n",
    "# Get the model results\n",
    "get_model_results(X_train, y_train, X_test, y_test, model)"
   ]
  },
  {
   "cell_type": "code",
   "execution_count": null,
   "metadata": {},
   "outputs": [],
   "source": [
    "#Voting Classifier\n",
    "#Let's now combine three machine learning models into one, to improve our Random Forest fraud detection model from before. You'll combine our usual Random Forest model, with the Logistic Regression from the previous exercise, with a simple Decision Tree. You can use the short cut get_model_results() to see the immediate result of the ensemble model."
   ]
  },
  {
   "cell_type": "code",
   "execution_count": 59,
   "metadata": {},
   "outputs": [
    {
     "name": "stdout",
     "output_type": "stream",
     "text": [
      "\n",
      "Classification Report:\n",
      "              precision    recall  f1-score   support\n",
      "\n",
      "           0       1.00      1.00      1.00      2099\n",
      "           1       0.99      1.00      0.99        91\n",
      "\n",
      "    accuracy                           1.00      2190\n",
      "   macro avg       0.99      1.00      1.00      2190\n",
      "weighted avg       1.00      1.00      1.00      2190\n",
      "\n",
      "\n",
      "Confusion Matrix:\n",
      "[[2098    1]\n",
      " [   0   91]]\n"
     ]
    }
   ],
   "source": [
    "# Import the package\n",
    "from sklearn.ensemble import VotingClassifier\n",
    "# Define the three classifiers to use in the ensemble\n",
    "clf1 = LogisticRegression(class_weight={0:1, 1:15}, random_state=5)\n",
    "clf2 = RandomForestClassifier(class_weight={0:1, 1:12}, criterion='gini', max_depth=8, max_features='log2',\n",
    "            min_samples_leaf=10, n_estimators=30, n_jobs=-1, random_state=5)\n",
    "clf3 = DecisionTreeClassifier(random_state=5, class_weight=\"balanced\")\n",
    "# Combine the classifiers in the ensemble model\n",
    "ensemble_model = VotingClassifier(estimators=[('lr', clf1), ('rf', clf2), ('dt',clf3)], voting='hard')\n",
    "# Get the results \n",
    "get_model_results(X_train, y_train, X_test, y_test, ensemble_model)"
   ]
  },
  {
   "cell_type": "code",
   "execution_count": null,
   "metadata": {},
   "outputs": [],
   "source": [
    "#By combining the classifiers, you can take the best of multiple models. You've increased the cases of fraud you are catching from 79 to 91, and you only have 1 extra false positives in return. If you do care about catching as many fraud cases as you can, whilst keeping the false positives low, this is a pretty good trade-off. The Logistic Regression as a standalone was quite bad in terms of false positives, and the Random Forest was worse in terms of false negatives. By combining these together you indeed managed to improve performance."
   ]
  },
  {
   "cell_type": "code",
   "execution_count": null,
   "metadata": {},
   "outputs": [],
   "source": [
    "#Adjust weights within the Voting Classifier\n",
    "#You've just seen that the Voting Classifier allows you to improve your fraud detection performance, by combining good aspects from multiple models. Now let's try to adjust the weights we give to these models. By increasing or decreasing weights you can play with how much emphasis you give to a particular model relative to the rest. This comes in handy when a certain model has overall better performance than the rest, but you still want to combine aspects of the others to further improve your results."
   ]
  },
  {
   "cell_type": "code",
   "execution_count": 60,
   "metadata": {},
   "outputs": [
    {
     "name": "stdout",
     "output_type": "stream",
     "text": [
      "ROC Score:\n",
      "1.0\n",
      "\n",
      "Classification Report:\n",
      "              precision    recall  f1-score   support\n",
      "\n",
      "           0       1.00      1.00      1.00      2099\n",
      "           1       1.00      1.00      1.00        91\n",
      "\n",
      "    accuracy                           1.00      2190\n",
      "   macro avg       1.00      1.00      1.00      2190\n",
      "weighted avg       1.00      1.00      1.00      2190\n",
      "\n",
      "\n",
      "Confusion Matrix:\n",
      "[[2099    0]\n",
      " [   0   91]]\n"
     ]
    }
   ],
   "source": [
    "# Define the ensemble model\n",
    "ensemble_model = VotingClassifier(estimators=[('lr', clf1), ('rf', clf2), ('gnb', clf3)], voting='soft', weights=[1, 4, 1], flatten_transform=True)\n",
    "# Get results \n",
    "get_model_results(X_train, y_train, X_test, y_test, ensemble_model)"
   ]
  },
  {
   "cell_type": "code",
   "execution_count": null,
   "metadata": {},
   "outputs": [],
   "source": [
    "#the weight option allows you to play with the individual models to get the best final mix for your fraud detection model. Now that you have finalized fraud detection with supervised learning, let's have a look at how fraud detetion can be done when you don't have any labels to train on."
   ]
  },
  {
   "cell_type": "code",
   "execution_count": null,
   "metadata": {},
   "outputs": [],
   "source": [
    "#Exploring your data\n",
    "#you will be looking at bank payment transaction data. The financial transactions are categorized by type of expense, as well as the amount spent. Moreover, you have some client characteristics available such as age group and gender. Some of the transactions are labelled as fraud; you'll treat these labels as given and will use those to validate the results.\n",
    "#When using unsupervised learning techniques for fraud detection, you want to distinguish normal from abnormal (thus potentially fraudulent) behavior. As a fraud analyst to understand what is \"normal\", you need to have a good understanding of the data and its characteristics. Let's explore the data in this first exercise."
   ]
  },
  {
   "cell_type": "code",
   "execution_count": 63,
   "metadata": {},
   "outputs": [
    {
     "name": "stdout",
     "output_type": "stream",
     "text": [
      "(7300, 31)\n"
     ]
    },
    {
     "data": {
      "text/html": [
       "<div>\n",
       "<style scoped>\n",
       "    .dataframe tbody tr th:only-of-type {\n",
       "        vertical-align: middle;\n",
       "    }\n",
       "\n",
       "    .dataframe tbody tr th {\n",
       "        vertical-align: top;\n",
       "    }\n",
       "\n",
       "    .dataframe thead th {\n",
       "        text-align: right;\n",
       "    }\n",
       "</style>\n",
       "<table border=\"1\" class=\"dataframe\">\n",
       "  <thead>\n",
       "    <tr style=\"text-align: right;\">\n",
       "      <th></th>\n",
       "      <th>V1</th>\n",
       "      <th>V2</th>\n",
       "      <th>V3</th>\n",
       "      <th>V4</th>\n",
       "      <th>V5</th>\n",
       "      <th>V6</th>\n",
       "      <th>V7</th>\n",
       "      <th>V8</th>\n",
       "      <th>V9</th>\n",
       "      <th>V10</th>\n",
       "      <th>...</th>\n",
       "      <th>V22</th>\n",
       "      <th>V23</th>\n",
       "      <th>V24</th>\n",
       "      <th>V25</th>\n",
       "      <th>V26</th>\n",
       "      <th>V27</th>\n",
       "      <th>V28</th>\n",
       "      <th>Amount</th>\n",
       "      <th>Class</th>\n",
       "      <th>flag_as_fraud</th>\n",
       "    </tr>\n",
       "  </thead>\n",
       "  <tbody>\n",
       "    <tr>\n",
       "      <th>0</th>\n",
       "      <td>-1.191668</td>\n",
       "      <td>0.428409</td>\n",
       "      <td>1.640028</td>\n",
       "      <td>-1.848859</td>\n",
       "      <td>-0.870903</td>\n",
       "      <td>-0.204849</td>\n",
       "      <td>-0.385675</td>\n",
       "      <td>0.352793</td>\n",
       "      <td>-1.098301</td>\n",
       "      <td>-0.334597</td>\n",
       "      <td>...</td>\n",
       "      <td>1.292565</td>\n",
       "      <td>-0.467752</td>\n",
       "      <td>1.244887</td>\n",
       "      <td>0.697707</td>\n",
       "      <td>0.059375</td>\n",
       "      <td>-0.319964</td>\n",
       "      <td>-0.017444</td>\n",
       "      <td>27.44</td>\n",
       "      <td>0</td>\n",
       "      <td>0</td>\n",
       "    </tr>\n",
       "    <tr>\n",
       "      <th>1</th>\n",
       "      <td>1.966614</td>\n",
       "      <td>-0.450087</td>\n",
       "      <td>-1.228586</td>\n",
       "      <td>0.142873</td>\n",
       "      <td>-0.150627</td>\n",
       "      <td>-0.543590</td>\n",
       "      <td>-0.076217</td>\n",
       "      <td>-0.108390</td>\n",
       "      <td>0.973310</td>\n",
       "      <td>-0.029903</td>\n",
       "      <td>...</td>\n",
       "      <td>0.564916</td>\n",
       "      <td>-0.039331</td>\n",
       "      <td>-0.283904</td>\n",
       "      <td>0.186400</td>\n",
       "      <td>0.192932</td>\n",
       "      <td>-0.039155</td>\n",
       "      <td>-0.071314</td>\n",
       "      <td>35.95</td>\n",
       "      <td>0</td>\n",
       "      <td>0</td>\n",
       "    </tr>\n",
       "    <tr>\n",
       "      <th>2</th>\n",
       "      <td>1.528452</td>\n",
       "      <td>-1.296191</td>\n",
       "      <td>-0.890677</td>\n",
       "      <td>-2.504028</td>\n",
       "      <td>0.803202</td>\n",
       "      <td>3.350793</td>\n",
       "      <td>-1.633016</td>\n",
       "      <td>0.815350</td>\n",
       "      <td>-1.884692</td>\n",
       "      <td>1.465259</td>\n",
       "      <td>...</td>\n",
       "      <td>-1.017485</td>\n",
       "      <td>0.129566</td>\n",
       "      <td>0.948048</td>\n",
       "      <td>0.287826</td>\n",
       "      <td>-0.396592</td>\n",
       "      <td>0.042997</td>\n",
       "      <td>0.025853</td>\n",
       "      <td>28.40</td>\n",
       "      <td>0</td>\n",
       "      <td>0</td>\n",
       "    </tr>\n",
       "    <tr>\n",
       "      <th>3</th>\n",
       "      <td>-0.774614</td>\n",
       "      <td>1.100916</td>\n",
       "      <td>0.679080</td>\n",
       "      <td>1.034016</td>\n",
       "      <td>0.168633</td>\n",
       "      <td>0.874582</td>\n",
       "      <td>0.209454</td>\n",
       "      <td>0.770550</td>\n",
       "      <td>-0.558106</td>\n",
       "      <td>-0.165442</td>\n",
       "      <td>...</td>\n",
       "      <td>0.146017</td>\n",
       "      <td>-0.130401</td>\n",
       "      <td>-0.848815</td>\n",
       "      <td>0.005698</td>\n",
       "      <td>-0.183295</td>\n",
       "      <td>0.282940</td>\n",
       "      <td>0.123856</td>\n",
       "      <td>43.20</td>\n",
       "      <td>0</td>\n",
       "      <td>0</td>\n",
       "    </tr>\n",
       "    <tr>\n",
       "      <th>4</th>\n",
       "      <td>-1.075860</td>\n",
       "      <td>1.361160</td>\n",
       "      <td>1.496972</td>\n",
       "      <td>2.242604</td>\n",
       "      <td>1.314751</td>\n",
       "      <td>0.272787</td>\n",
       "      <td>1.005246</td>\n",
       "      <td>0.132932</td>\n",
       "      <td>-1.558317</td>\n",
       "      <td>0.484216</td>\n",
       "      <td>...</td>\n",
       "      <td>0.530692</td>\n",
       "      <td>-0.651119</td>\n",
       "      <td>0.626389</td>\n",
       "      <td>1.040212</td>\n",
       "      <td>0.249501</td>\n",
       "      <td>-0.146745</td>\n",
       "      <td>0.029714</td>\n",
       "      <td>10.59</td>\n",
       "      <td>0</td>\n",
       "      <td>0</td>\n",
       "    </tr>\n",
       "    <tr>\n",
       "      <th>...</th>\n",
       "      <td>...</td>\n",
       "      <td>...</td>\n",
       "      <td>...</td>\n",
       "      <td>...</td>\n",
       "      <td>...</td>\n",
       "      <td>...</td>\n",
       "      <td>...</td>\n",
       "      <td>...</td>\n",
       "      <td>...</td>\n",
       "      <td>...</td>\n",
       "      <td>...</td>\n",
       "      <td>...</td>\n",
       "      <td>...</td>\n",
       "      <td>...</td>\n",
       "      <td>...</td>\n",
       "      <td>...</td>\n",
       "      <td>...</td>\n",
       "      <td>...</td>\n",
       "      <td>...</td>\n",
       "      <td>...</td>\n",
       "      <td>...</td>\n",
       "    </tr>\n",
       "    <tr>\n",
       "      <th>7295</th>\n",
       "      <td>-3.593476</td>\n",
       "      <td>0.781442</td>\n",
       "      <td>-1.822448</td>\n",
       "      <td>0.605761</td>\n",
       "      <td>-1.194656</td>\n",
       "      <td>-0.517195</td>\n",
       "      <td>-1.722523</td>\n",
       "      <td>0.128890</td>\n",
       "      <td>0.014963</td>\n",
       "      <td>-2.856117</td>\n",
       "      <td>...</td>\n",
       "      <td>0.391249</td>\n",
       "      <td>-0.252875</td>\n",
       "      <td>-0.498042</td>\n",
       "      <td>0.010172</td>\n",
       "      <td>0.909929</td>\n",
       "      <td>-1.478767</td>\n",
       "      <td>0.722673</td>\n",
       "      <td>101.50</td>\n",
       "      <td>1</td>\n",
       "      <td>0</td>\n",
       "    </tr>\n",
       "    <tr>\n",
       "      <th>7296</th>\n",
       "      <td>0.923764</td>\n",
       "      <td>0.344048</td>\n",
       "      <td>-2.880004</td>\n",
       "      <td>1.721680</td>\n",
       "      <td>-3.019565</td>\n",
       "      <td>-0.639736</td>\n",
       "      <td>-3.801325</td>\n",
       "      <td>1.299096</td>\n",
       "      <td>0.864065</td>\n",
       "      <td>-2.895252</td>\n",
       "      <td>...</td>\n",
       "      <td>1.481271</td>\n",
       "      <td>0.725266</td>\n",
       "      <td>0.176960</td>\n",
       "      <td>-1.815638</td>\n",
       "      <td>-0.536517</td>\n",
       "      <td>0.489035</td>\n",
       "      <td>-0.049729</td>\n",
       "      <td>30.30</td>\n",
       "      <td>1</td>\n",
       "      <td>0</td>\n",
       "    </tr>\n",
       "    <tr>\n",
       "      <th>7297</th>\n",
       "      <td>-0.361428</td>\n",
       "      <td>1.133472</td>\n",
       "      <td>-2.971360</td>\n",
       "      <td>-0.283073</td>\n",
       "      <td>0.371452</td>\n",
       "      <td>-0.574680</td>\n",
       "      <td>4.031513</td>\n",
       "      <td>-0.934398</td>\n",
       "      <td>-0.768255</td>\n",
       "      <td>-2.248115</td>\n",
       "      <td>...</td>\n",
       "      <td>0.563861</td>\n",
       "      <td>-0.408436</td>\n",
       "      <td>-0.880079</td>\n",
       "      <td>1.408392</td>\n",
       "      <td>-0.137402</td>\n",
       "      <td>-0.001250</td>\n",
       "      <td>-0.182751</td>\n",
       "      <td>480.72</td>\n",
       "      <td>1</td>\n",
       "      <td>0</td>\n",
       "    </tr>\n",
       "    <tr>\n",
       "      <th>7298</th>\n",
       "      <td>-1.141559</td>\n",
       "      <td>1.927650</td>\n",
       "      <td>-3.905356</td>\n",
       "      <td>-0.073943</td>\n",
       "      <td>-0.044858</td>\n",
       "      <td>-1.756999</td>\n",
       "      <td>-1.217416</td>\n",
       "      <td>0.364563</td>\n",
       "      <td>-2.770148</td>\n",
       "      <td>-3.216188</td>\n",
       "      <td>...</td>\n",
       "      <td>-0.531496</td>\n",
       "      <td>-0.328741</td>\n",
       "      <td>0.393100</td>\n",
       "      <td>0.568435</td>\n",
       "      <td>0.786605</td>\n",
       "      <td>-0.146102</td>\n",
       "      <td>0.076211</td>\n",
       "      <td>25.00</td>\n",
       "      <td>1</td>\n",
       "      <td>0</td>\n",
       "    </tr>\n",
       "    <tr>\n",
       "      <th>7299</th>\n",
       "      <td>-0.419820</td>\n",
       "      <td>-1.155978</td>\n",
       "      <td>-2.092516</td>\n",
       "      <td>2.786750</td>\n",
       "      <td>0.736297</td>\n",
       "      <td>-0.167292</td>\n",
       "      <td>1.600027</td>\n",
       "      <td>-0.117427</td>\n",
       "      <td>-0.796954</td>\n",
       "      <td>-0.133950</td>\n",
       "      <td>...</td>\n",
       "      <td>0.533517</td>\n",
       "      <td>1.284645</td>\n",
       "      <td>0.516131</td>\n",
       "      <td>-0.602941</td>\n",
       "      <td>-0.305024</td>\n",
       "      <td>-0.021363</td>\n",
       "      <td>0.129096</td>\n",
       "      <td>451.27</td>\n",
       "      <td>1</td>\n",
       "      <td>0</td>\n",
       "    </tr>\n",
       "  </tbody>\n",
       "</table>\n",
       "<p>7300 rows × 31 columns</p>\n",
       "</div>"
      ],
      "text/plain": [
       "            V1        V2        V3        V4        V5        V6        V7  \\\n",
       "0    -1.191668  0.428409  1.640028 -1.848859 -0.870903 -0.204849 -0.385675   \n",
       "1     1.966614 -0.450087 -1.228586  0.142873 -0.150627 -0.543590 -0.076217   \n",
       "2     1.528452 -1.296191 -0.890677 -2.504028  0.803202  3.350793 -1.633016   \n",
       "3    -0.774614  1.100916  0.679080  1.034016  0.168633  0.874582  0.209454   \n",
       "4    -1.075860  1.361160  1.496972  2.242604  1.314751  0.272787  1.005246   \n",
       "...        ...       ...       ...       ...       ...       ...       ...   \n",
       "7295 -3.593476  0.781442 -1.822448  0.605761 -1.194656 -0.517195 -1.722523   \n",
       "7296  0.923764  0.344048 -2.880004  1.721680 -3.019565 -0.639736 -3.801325   \n",
       "7297 -0.361428  1.133472 -2.971360 -0.283073  0.371452 -0.574680  4.031513   \n",
       "7298 -1.141559  1.927650 -3.905356 -0.073943 -0.044858 -1.756999 -1.217416   \n",
       "7299 -0.419820 -1.155978 -2.092516  2.786750  0.736297 -0.167292  1.600027   \n",
       "\n",
       "            V8        V9       V10  ...       V22       V23       V24  \\\n",
       "0     0.352793 -1.098301 -0.334597  ...  1.292565 -0.467752  1.244887   \n",
       "1    -0.108390  0.973310 -0.029903  ...  0.564916 -0.039331 -0.283904   \n",
       "2     0.815350 -1.884692  1.465259  ... -1.017485  0.129566  0.948048   \n",
       "3     0.770550 -0.558106 -0.165442  ...  0.146017 -0.130401 -0.848815   \n",
       "4     0.132932 -1.558317  0.484216  ...  0.530692 -0.651119  0.626389   \n",
       "...        ...       ...       ...  ...       ...       ...       ...   \n",
       "7295  0.128890  0.014963 -2.856117  ...  0.391249 -0.252875 -0.498042   \n",
       "7296  1.299096  0.864065 -2.895252  ...  1.481271  0.725266  0.176960   \n",
       "7297 -0.934398 -0.768255 -2.248115  ...  0.563861 -0.408436 -0.880079   \n",
       "7298  0.364563 -2.770148 -3.216188  ... -0.531496 -0.328741  0.393100   \n",
       "7299 -0.117427 -0.796954 -0.133950  ...  0.533517  1.284645  0.516131   \n",
       "\n",
       "           V25       V26       V27       V28  Amount  Class  flag_as_fraud  \n",
       "0     0.697707  0.059375 -0.319964 -0.017444   27.44      0              0  \n",
       "1     0.186400  0.192932 -0.039155 -0.071314   35.95      0              0  \n",
       "2     0.287826 -0.396592  0.042997  0.025853   28.40      0              0  \n",
       "3     0.005698 -0.183295  0.282940  0.123856   43.20      0              0  \n",
       "4     1.040212  0.249501 -0.146745  0.029714   10.59      0              0  \n",
       "...        ...       ...       ...       ...     ...    ...            ...  \n",
       "7295  0.010172  0.909929 -1.478767  0.722673  101.50      1              0  \n",
       "7296 -1.815638 -0.536517  0.489035 -0.049729   30.30      1              0  \n",
       "7297  1.408392 -0.137402 -0.001250 -0.182751  480.72      1              0  \n",
       "7298  0.568435  0.786605 -0.146102  0.076211   25.00      1              0  \n",
       "7299 -0.602941 -0.305024 -0.021363  0.129096  451.27      1              0  \n",
       "\n",
       "[7300 rows x 31 columns]"
      ]
     },
     "execution_count": 63,
     "metadata": {},
     "output_type": "execute_result"
    }
   ],
   "source": [
    "# Get the dataframe shape\n",
    "print(data.shape)\n",
    "# Display the first 5 rows\n",
    "data"
   ]
  }
 ],
 "metadata": {
  "kernelspec": {
   "display_name": "Python 3",
   "language": "python",
   "name": "python3"
  },
  "language_info": {
   "codemirror_mode": {
    "name": "ipython",
    "version": 3
   },
   "file_extension": ".py",
   "mimetype": "text/x-python",
   "name": "python",
   "nbconvert_exporter": "python",
   "pygments_lexer": "ipython3",
   "version": "3.8.5"
  }
 },
 "nbformat": 4,
 "nbformat_minor": 4
}
